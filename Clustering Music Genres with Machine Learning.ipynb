{
 "cells": [
  {
   "cell_type": "code",
   "execution_count": 1,
   "id": "43e6a83e",
   "metadata": {},
   "outputs": [],
   "source": [
    "import pandas as pd\n",
    "pd.set_option(\"display.max_columns\",100)\n",
    "import numpy as np\n",
    "\n",
    "from scipy import stats\n",
    "import matplotlib.pyplot as plt\n",
    "%matplotlib inline\n",
    "import seaborn as sns\n",
    "\n",
    "\n",
    "from sklearn.metrics import r2_score, mean_squared_error,mean_absolute_error\n",
    "from sklearn.linear_model import LinearRegression, ElasticNet, Ridge, Lasso\n",
    "from sklearn.tree import ExtraTreeRegressor\n",
    "from sklearn.ensemble import GradientBoostingRegressor\n",
    "from xgboost import XGBRegressor\n",
    "\n",
    "from sklearn.model_selection import train_test_split\n",
    "\n",
    "import warnings\n",
    "warnings.filterwarnings('ignore')"
   ]
  },
  {
   "cell_type": "code",
   "execution_count": 2,
   "id": "4c6e8e52",
   "metadata": {},
   "outputs": [],
   "source": [
    "df=pd.read_csv(\"Spotify-2000.csv\" )"
   ]
  },
  {
   "cell_type": "code",
   "execution_count": 3,
   "id": "39d112c4",
   "metadata": {},
   "outputs": [
    {
     "data": {
      "text/html": [
       "<div>\n",
       "<style scoped>\n",
       "    .dataframe tbody tr th:only-of-type {\n",
       "        vertical-align: middle;\n",
       "    }\n",
       "\n",
       "    .dataframe tbody tr th {\n",
       "        vertical-align: top;\n",
       "    }\n",
       "\n",
       "    .dataframe thead th {\n",
       "        text-align: right;\n",
       "    }\n",
       "</style>\n",
       "<table border=\"1\" class=\"dataframe\">\n",
       "  <thead>\n",
       "    <tr style=\"text-align: right;\">\n",
       "      <th></th>\n",
       "      <th>Index</th>\n",
       "      <th>Title</th>\n",
       "      <th>Artist</th>\n",
       "      <th>Top Genre</th>\n",
       "      <th>Year</th>\n",
       "      <th>Beats Per Minute (BPM)</th>\n",
       "      <th>Energy</th>\n",
       "      <th>Danceability</th>\n",
       "      <th>Loudness (dB)</th>\n",
       "      <th>Liveness</th>\n",
       "      <th>Valence</th>\n",
       "      <th>Length (Duration)</th>\n",
       "      <th>Acousticness</th>\n",
       "      <th>Speechiness</th>\n",
       "      <th>Popularity</th>\n",
       "    </tr>\n",
       "  </thead>\n",
       "  <tbody>\n",
       "    <tr>\n",
       "      <th>0</th>\n",
       "      <td>1</td>\n",
       "      <td>Sunrise</td>\n",
       "      <td>Norah Jones</td>\n",
       "      <td>adult standards</td>\n",
       "      <td>2004</td>\n",
       "      <td>157</td>\n",
       "      <td>30</td>\n",
       "      <td>53</td>\n",
       "      <td>-14</td>\n",
       "      <td>11</td>\n",
       "      <td>68</td>\n",
       "      <td>201</td>\n",
       "      <td>94</td>\n",
       "      <td>3</td>\n",
       "      <td>71</td>\n",
       "    </tr>\n",
       "    <tr>\n",
       "      <th>1</th>\n",
       "      <td>2</td>\n",
       "      <td>Black Night</td>\n",
       "      <td>Deep Purple</td>\n",
       "      <td>album rock</td>\n",
       "      <td>2000</td>\n",
       "      <td>135</td>\n",
       "      <td>79</td>\n",
       "      <td>50</td>\n",
       "      <td>-11</td>\n",
       "      <td>17</td>\n",
       "      <td>81</td>\n",
       "      <td>207</td>\n",
       "      <td>17</td>\n",
       "      <td>7</td>\n",
       "      <td>39</td>\n",
       "    </tr>\n",
       "    <tr>\n",
       "      <th>2</th>\n",
       "      <td>3</td>\n",
       "      <td>Clint Eastwood</td>\n",
       "      <td>Gorillaz</td>\n",
       "      <td>alternative hip hop</td>\n",
       "      <td>2001</td>\n",
       "      <td>168</td>\n",
       "      <td>69</td>\n",
       "      <td>66</td>\n",
       "      <td>-9</td>\n",
       "      <td>7</td>\n",
       "      <td>52</td>\n",
       "      <td>341</td>\n",
       "      <td>2</td>\n",
       "      <td>17</td>\n",
       "      <td>69</td>\n",
       "    </tr>\n",
       "    <tr>\n",
       "      <th>3</th>\n",
       "      <td>4</td>\n",
       "      <td>The Pretender</td>\n",
       "      <td>Foo Fighters</td>\n",
       "      <td>alternative metal</td>\n",
       "      <td>2007</td>\n",
       "      <td>173</td>\n",
       "      <td>96</td>\n",
       "      <td>43</td>\n",
       "      <td>-4</td>\n",
       "      <td>3</td>\n",
       "      <td>37</td>\n",
       "      <td>269</td>\n",
       "      <td>0</td>\n",
       "      <td>4</td>\n",
       "      <td>76</td>\n",
       "    </tr>\n",
       "    <tr>\n",
       "      <th>4</th>\n",
       "      <td>5</td>\n",
       "      <td>Waitin' On A Sunny Day</td>\n",
       "      <td>Bruce Springsteen</td>\n",
       "      <td>classic rock</td>\n",
       "      <td>2002</td>\n",
       "      <td>106</td>\n",
       "      <td>82</td>\n",
       "      <td>58</td>\n",
       "      <td>-5</td>\n",
       "      <td>10</td>\n",
       "      <td>87</td>\n",
       "      <td>256</td>\n",
       "      <td>1</td>\n",
       "      <td>3</td>\n",
       "      <td>59</td>\n",
       "    </tr>\n",
       "  </tbody>\n",
       "</table>\n",
       "</div>"
      ],
      "text/plain": [
       "   Index                   Title             Artist            Top Genre  \\\n",
       "0      1                 Sunrise        Norah Jones      adult standards   \n",
       "1      2             Black Night        Deep Purple           album rock   \n",
       "2      3          Clint Eastwood           Gorillaz  alternative hip hop   \n",
       "3      4           The Pretender       Foo Fighters    alternative metal   \n",
       "4      5  Waitin' On A Sunny Day  Bruce Springsteen         classic rock   \n",
       "\n",
       "   Year  Beats Per Minute (BPM)  Energy  Danceability  Loudness (dB)  \\\n",
       "0  2004                     157      30            53            -14   \n",
       "1  2000                     135      79            50            -11   \n",
       "2  2001                     168      69            66             -9   \n",
       "3  2007                     173      96            43             -4   \n",
       "4  2002                     106      82            58             -5   \n",
       "\n",
       "   Liveness  Valence Length (Duration)  Acousticness  Speechiness  Popularity  \n",
       "0        11       68               201            94            3          71  \n",
       "1        17       81               207            17            7          39  \n",
       "2         7       52               341             2           17          69  \n",
       "3         3       37               269             0            4          76  \n",
       "4        10       87               256             1            3          59  "
      ]
     },
     "execution_count": 3,
     "metadata": {},
     "output_type": "execute_result"
    }
   ],
   "source": [
    "df.head()"
   ]
  },
  {
   "cell_type": "code",
   "execution_count": 4,
   "id": "caef4b41",
   "metadata": {},
   "outputs": [
    {
     "data": {
      "text/plain": [
       "(1994, 15)"
      ]
     },
     "execution_count": 4,
     "metadata": {},
     "output_type": "execute_result"
    }
   ],
   "source": [
    "df.shape"
   ]
  },
  {
   "cell_type": "code",
   "execution_count": 5,
   "id": "add4373f",
   "metadata": {},
   "outputs": [],
   "source": [
    "df = df.dropna(axis=1, how='all')"
   ]
  },
  {
   "cell_type": "code",
   "execution_count": 6,
   "id": "9e51d28e",
   "metadata": {},
   "outputs": [],
   "source": [
    "threshold = len(df) * 0.6 \n",
    "df = df.dropna(axis=1, thresh=threshold)"
   ]
  },
  {
   "cell_type": "code",
   "execution_count": 7,
   "id": "324e5312",
   "metadata": {},
   "outputs": [
    {
     "data": {
      "text/plain": [
       "(1994, 15)"
      ]
     },
     "execution_count": 7,
     "metadata": {},
     "output_type": "execute_result"
    }
   ],
   "source": [
    "df.shape"
   ]
  },
  {
   "cell_type": "code",
   "execution_count": 8,
   "id": "6f772f67",
   "metadata": {},
   "outputs": [
    {
     "name": "stdout",
     "output_type": "stream",
     "text": [
      "<class 'pandas.core.frame.DataFrame'>\n",
      "RangeIndex: 1994 entries, 0 to 1993\n",
      "Data columns (total 15 columns):\n",
      " #   Column                  Non-Null Count  Dtype \n",
      "---  ------                  --------------  ----- \n",
      " 0   Index                   1994 non-null   int64 \n",
      " 1   Title                   1994 non-null   object\n",
      " 2   Artist                  1994 non-null   object\n",
      " 3   Top Genre               1994 non-null   object\n",
      " 4   Year                    1994 non-null   int64 \n",
      " 5   Beats Per Minute (BPM)  1994 non-null   int64 \n",
      " 6   Energy                  1994 non-null   int64 \n",
      " 7   Danceability            1994 non-null   int64 \n",
      " 8   Loudness (dB)           1994 non-null   int64 \n",
      " 9   Liveness                1994 non-null   int64 \n",
      " 10  Valence                 1994 non-null   int64 \n",
      " 11  Length (Duration)       1994 non-null   object\n",
      " 12  Acousticness            1994 non-null   int64 \n",
      " 13  Speechiness             1994 non-null   int64 \n",
      " 14  Popularity              1994 non-null   int64 \n",
      "dtypes: int64(11), object(4)\n",
      "memory usage: 233.8+ KB\n"
     ]
    }
   ],
   "source": [
    "df.info()"
   ]
  },
  {
   "cell_type": "code",
   "execution_count": 9,
   "id": "2c822605",
   "metadata": {},
   "outputs": [
    {
     "data": {
      "text/plain": [
       "Index                     0\n",
       "Title                     0\n",
       "Artist                    0\n",
       "Top Genre                 0\n",
       "Year                      0\n",
       "Beats Per Minute (BPM)    0\n",
       "Energy                    0\n",
       "Danceability              0\n",
       "Loudness (dB)             0\n",
       "Liveness                  0\n",
       "Valence                   0\n",
       "Length (Duration)         0\n",
       "Acousticness              0\n",
       "Speechiness               0\n",
       "Popularity                0\n",
       "dtype: int64"
      ]
     },
     "execution_count": 9,
     "metadata": {},
     "output_type": "execute_result"
    }
   ],
   "source": [
    "df.isnull().sum()"
   ]
  },
  {
   "cell_type": "code",
   "execution_count": 10,
   "id": "cf336122",
   "metadata": {},
   "outputs": [
    {
     "data": {
      "text/plain": [
       "album rock           413\n",
       "adult standards      123\n",
       "dutch pop             88\n",
       "alternative rock      86\n",
       "dance pop             83\n",
       "                    ... \n",
       "streektaal             1\n",
       "indie anthem-folk      1\n",
       "la pop                 1\n",
       "ccm                    1\n",
       "bebop                  1\n",
       "Name: Top Genre, Length: 149, dtype: int64"
      ]
     },
     "execution_count": 10,
     "metadata": {},
     "output_type": "execute_result"
    }
   ],
   "source": [
    "df[\"Top Genre\"].value_counts()"
   ]
  },
  {
   "cell_type": "code",
   "execution_count": 12,
   "id": "8e8ebb58",
   "metadata": {},
   "outputs": [
    {
     "name": "stdout",
     "output_type": "stream",
     "text": [
      "'Index', 'Title', 'Artist', 'Top Genre', 'Year', 'Beats Per Minute (BPM)', 'Energy', 'Danceability', 'Loudness (dB)', 'Liveness', 'Valence', 'Length (Duration)', 'Acousticness', 'Speechiness', 'Popularity'\n"
     ]
    }
   ],
   "source": [
    "column_names = df.columns.tolist()\n",
    "formatted_column_names = ', '.join(f\"'{col}'\" for col in column_names)\n",
    "print(formatted_column_names)"
   ]
  },
  {
   "cell_type": "code",
   "execution_count": 13,
   "id": "2102ede7",
   "metadata": {},
   "outputs": [],
   "source": [
    "for column in df.columns:\n",
    "    if column != 'Index': \n",
    "        value_counts = df[column].value_counts()\n",
    "        num_categories = len(value_counts)\n",
    "        \n",
    "        # İki alt kategorisi varsa 0 ve 1 olarak kodlayalım\n",
    "        if num_categories == 2:\n",
    "            category_mapping = {category: index for index, category in enumerate(value_counts.index)}\n",
    "            df[column] = df[column].map(category_mapping)\n",
    "        # İki alt kategoriden fazlaysa 1'den başlayan sıralı sayılarla kodlayalım\n",
    "        else:\n",
    "            category_mapping = {category: index + 1 for index, category in enumerate(value_counts.index)}\n",
    "            df[column] = df[column].map(category_mapping)"
   ]
  },
  {
   "cell_type": "code",
   "execution_count": 14,
   "id": "478ac6ee",
   "metadata": {},
   "outputs": [
    {
     "name": "stdout",
     "output_type": "stream",
     "text": [
      "<class 'pandas.core.frame.DataFrame'>\n",
      "RangeIndex: 1994 entries, 0 to 1993\n",
      "Data columns (total 15 columns):\n",
      " #   Column                  Non-Null Count  Dtype\n",
      "---  ------                  --------------  -----\n",
      " 0   Index                   1994 non-null   int64\n",
      " 1   Title                   1994 non-null   int64\n",
      " 2   Artist                  1994 non-null   int64\n",
      " 3   Top Genre               1994 non-null   int64\n",
      " 4   Year                    1994 non-null   int64\n",
      " 5   Beats Per Minute (BPM)  1994 non-null   int64\n",
      " 6   Energy                  1994 non-null   int64\n",
      " 7   Danceability            1994 non-null   int64\n",
      " 8   Loudness (dB)           1994 non-null   int64\n",
      " 9   Liveness                1994 non-null   int64\n",
      " 10  Valence                 1994 non-null   int64\n",
      " 11  Length (Duration)       1994 non-null   int64\n",
      " 12  Acousticness            1994 non-null   int64\n",
      " 13  Speechiness             1994 non-null   int64\n",
      " 14  Popularity              1994 non-null   int64\n",
      "dtypes: int64(15)\n",
      "memory usage: 233.8 KB\n"
     ]
    }
   ],
   "source": [
    "df.info()"
   ]
  },
  {
   "cell_type": "code",
   "execution_count": 15,
   "id": "bbcce515",
   "metadata": {},
   "outputs": [],
   "source": [
    "x=df[[\n",
    "   'Index', 'Title', 'Artist', 'Top Genre', 'Year', 'Beats Per Minute (BPM)', \n",
    "    'Energy', 'Danceability', 'Loudness (dB)', 'Liveness', \n",
    "    'Valence', 'Length (Duration)', 'Acousticness', 'Speechiness', 'Popularity' \n",
    "    \n",
    "]]"
   ]
  },
  {
   "cell_type": "code",
   "execution_count": 16,
   "id": "8c14cde9",
   "metadata": {},
   "outputs": [],
   "source": [
    "from sklearn.cluster import KMeans\n",
    "from sklearn.metrics import silhouette_score"
   ]
  },
  {
   "cell_type": "code",
   "execution_count": 25,
   "id": "712fbe58",
   "metadata": {},
   "outputs": [],
   "source": [
    "model=KMeans(7)"
   ]
  },
  {
   "cell_type": "code",
   "execution_count": 26,
   "id": "6cfcdf44",
   "metadata": {},
   "outputs": [],
   "source": [
    "model=model.fit(x)"
   ]
  },
  {
   "cell_type": "code",
   "execution_count": 27,
   "id": "e214c527",
   "metadata": {},
   "outputs": [],
   "source": [
    "tahmin=model.predict(x)"
   ]
  },
  {
   "cell_type": "code",
   "execution_count": 28,
   "id": "2c21f91c",
   "metadata": {},
   "outputs": [],
   "source": [
    "x[\"cluster\"]=tahmin"
   ]
  },
  {
   "cell_type": "code",
   "execution_count": 29,
   "id": "1f597e90",
   "metadata": {},
   "outputs": [
    {
     "data": {
      "text/plain": [
       "0.41702456181050895"
      ]
     },
     "execution_count": 29,
     "metadata": {},
     "output_type": "execute_result"
    }
   ],
   "source": [
    "silhouette_score(x,tahmin)"
   ]
  },
  {
   "cell_type": "code",
   "execution_count": 30,
   "id": "ee26dc1c",
   "metadata": {},
   "outputs": [],
   "source": [
    "allscore=[]\n",
    "allcluster=[]\n",
    "distances=[]\n",
    "def clust(kactane):\n",
    "    for i in range(1,kactane):\n",
    "        i=i+1\n",
    "        model=KMeans(i)\n",
    "        model=model.fit(x)\n",
    "        tahmin=model.predict(x)\n",
    "        score=silhouette_score(x,tahmin)\n",
    "        distance=model.inertia_  \n",
    "        print(\"Cluster\", i, \"score\", score)\n",
    "        allscore.append(score)\n",
    "        allcluster.append(i)\n",
    "        distances.append(distance)"
   ]
  },
  {
   "cell_type": "code",
   "execution_count": 32,
   "id": "d757c4da",
   "metadata": {},
   "outputs": [
    {
     "name": "stdout",
     "output_type": "stream",
     "text": [
      "Cluster 2 score 0.5869785714116256\n",
      "Cluster 3 score 0.5312019913427223\n",
      "Cluster 4 score 0.4919742297209948\n",
      "Cluster 5 score 0.48000328604935116\n",
      "Cluster 6 score 0.4596267423520426\n",
      "Cluster 7 score 0.44972853001521984\n"
     ]
    }
   ],
   "source": [
    "clust(7)"
   ]
  },
  {
   "cell_type": "code",
   "execution_count": 33,
   "id": "8c7fee62",
   "metadata": {},
   "outputs": [
    {
     "data": {
      "text/plain": [
       "2    486\n",
       "3    371\n",
       "0    366\n",
       "5    285\n",
       "1    257\n",
       "6    117\n",
       "4    112\n",
       "Name: cluster, dtype: int64"
      ]
     },
     "execution_count": 33,
     "metadata": {},
     "output_type": "execute_result"
    }
   ],
   "source": [
    "x[\"cluster\"].value_counts()"
   ]
  },
  {
   "cell_type": "code",
   "execution_count": 34,
   "id": "b9abb905",
   "metadata": {},
   "outputs": [
    {
     "data": {
      "image/png": "[encoded data removed]",
      "text/plain": [
       "<Figure size 640x480 with 1 Axes>"
      ]
     },
     "metadata": {},
     "output_type": "display_data"
    }
   ],
   "source": [
    "ax=sns.countplot(x=x[\"cluster\"])\n",
    "ax.bar_label(ax.containers[0]);"
   ]
  },
  {
   "cell_type": "code",
   "execution_count": 35,
   "id": "71c68291",
   "metadata": {},
   "outputs": [],
   "source": [
    "from scipy.cluster.hierarchy import dendrogram,linkage"
   ]
  },
  {
   "cell_type": "code",
   "execution_count": 36,
   "id": "a0efe3d7",
   "metadata": {},
   "outputs": [],
   "source": [
    "link_data=linkage(x,method=\"ward\", metric=\"euclidean\")"
   ]
  },
  {
   "cell_type": "code",
   "execution_count": 37,
   "id": "e2a1c9a6",
   "metadata": {},
   "outputs": [
    {
     "data": {
      "image/png": "[encoded data removed]",
      "text/plain": [
       "<Figure size 640x480 with 1 Axes>"
      ]
     },
     "metadata": {},
     "output_type": "display_data"
    }
   ],
   "source": [
    "dendrogram(link_data)\n",
    "plt.show()"
   ]
  },
  {
   "cell_type": "code",
   "execution_count": 38,
   "id": "7105af9a",
   "metadata": {},
   "outputs": [],
   "source": [
    "from sklearn.cluster import DBSCAN"
   ]
  },
  {
   "cell_type": "code",
   "execution_count": 39,
   "id": "cfb9ffc2",
   "metadata": {},
   "outputs": [],
   "source": [
    "clusters=DBSCAN(eps=2.5,min_samples=4).fit(x)"
   ]
  },
  {
   "cell_type": "code",
   "execution_count": 40,
   "id": "2978f0ed",
   "metadata": {},
   "outputs": [],
   "source": [
    "labels=model.labels_"
   ]
  },
  {
   "cell_type": "code",
   "execution_count": 41,
   "id": "74adbe88",
   "metadata": {},
   "outputs": [],
   "source": [
    "from sklearn import metrics"
   ]
  },
  {
   "cell_type": "code",
   "execution_count": 42,
   "id": "baf5fd21",
   "metadata": {},
   "outputs": [],
   "source": [
    "sample_cores=np.zeros_like(labels,dtype=bool)\n",
    "\n",
    "sample_cores[clusters.core_sample_indices_]=True"
   ]
  },
  {
   "cell_type": "code",
   "execution_count": 43,
   "id": "d275dea6",
   "metadata": {},
   "outputs": [
    {
     "name": "stdout",
     "output_type": "stream",
     "text": [
      "0.41702456181050895\n"
     ]
    }
   ],
   "source": [
    "n_clusters=len(set(labels))- (1 if -1 in labels else 0)\n",
    "\n",
    "\n",
    "\n",
    "print(metrics.silhouette_score(x,labels))"
   ]
  },
  {
   "cell_type": "code",
   "execution_count": 44,
   "id": "89f6e19b",
   "metadata": {},
   "outputs": [],
   "source": [
    "from yellowbrick.cluster import KElbowVisualizer"
   ]
  },
  {
   "cell_type": "code",
   "execution_count": 45,
   "id": "e0459103",
   "metadata": {},
   "outputs": [
    {
     "data": {
      "image/png": "[encoded data removed]",
      "text/plain": [
       "<Figure size 800x550 with 2 Axes>"
      ]
     },
     "metadata": {},
     "output_type": "display_data"
    }
   ],
   "source": [
    "model = KMeans(random_state=42)\n",
    "\n",
    "\n",
    "visualizer = KElbowVisualizer(model, k=(1,10))\n",
    "visualizer.fit(x)\n",
    "\n",
    "\n",
    "visualizer.show()\n",
    "plt.show()"
   ]
  },
  {
   "cell_type": "code",
   "execution_count": null,
   "id": "42c7dc27",
   "metadata": {},
   "outputs": [],
   "source": []
  }
 ],
 "metadata": {
  "kernelspec": {
   "display_name": "Python 3 (ipykernel)",
   "language": "python",
   "name": "python3"
  },
  "language_info": {
   "codemirror_mode": {
    "name": "ipython",
    "version": 3
   },
   "file_extension": ".py",
   "mimetype": "text/x-python",
   "name": "python",
   "nbconvert_exporter": "python",
   "pygments_lexer": "ipython3",
   "version": "3.11.4"
  }
 },
 "nbformat": 4,
 "nbformat_minor": 5
}
